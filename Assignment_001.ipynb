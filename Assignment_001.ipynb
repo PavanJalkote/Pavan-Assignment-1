{
  "nbformat": 4,
  "nbformat_minor": 0,
  "metadata": {
    "colab": {
      "provenance": [],
      "authorship_tag": "ABX9TyPOYIvX7YYVeIw7k2Hjc29N",
      "include_colab_link": true
    },
    "kernelspec": {
      "name": "python3",
      "display_name": "Python 3"
    },
    "language_info": {
      "name": "python"
    }
  },
  "cells": [
    {
      "cell_type": "markdown",
      "metadata": {
        "id": "view-in-github",
        "colab_type": "text"
      },
      "source": [
        "<a href=\"https://colab.research.google.com/github/PavanJalkote/Pavan-Assignment-1/blob/main/Assignment_001.ipynb\" target=\"_parent\"><img src=\"https://colab.research.google.com/assets/colab-badge.svg\" alt=\"Open In Colab\"/></a>"
      ]
    },
    {
      "cell_type": "markdown",
      "source": [
        "# 2. Take input A and B and print their sum, mul, div, square of the nos."
      ],
      "metadata": {
        "id": "KHoPSoqxlUnY"
      }
    },
    {
      "cell_type": "code",
      "execution_count": null,
      "metadata": {
        "id": "bgQfOc_By6kF"
      },
      "outputs": [],
      "source": [
        "A = 11"
      ]
    },
    {
      "cell_type": "code",
      "source": [
        "B = 11"
      ],
      "metadata": {
        "id": "1_v8ZVcK1mTd"
      },
      "execution_count": null,
      "outputs": []
    },
    {
      "cell_type": "code",
      "source": [
        "print(A+B)"
      ],
      "metadata": {
        "colab": {
          "base_uri": "https://localhost:8080/"
        },
        "id": "H9rfYvNs11bK",
        "outputId": "efdcda98-2b6e-4788-8296-d82be7552664"
      },
      "execution_count": null,
      "outputs": [
        {
          "output_type": "stream",
          "name": "stdout",
          "text": [
            "22\n"
          ]
        }
      ]
    },
    {
      "cell_type": "code",
      "source": [
        "print(A-B)"
      ],
      "metadata": {
        "colab": {
          "base_uri": "https://localhost:8080/"
        },
        "id": "zpjpX4a215BD",
        "outputId": "c4d061af-63e1-484a-e5e6-933dc345eecd"
      },
      "execution_count": null,
      "outputs": [
        {
          "output_type": "stream",
          "name": "stdout",
          "text": [
            "0\n"
          ]
        }
      ]
    },
    {
      "cell_type": "code",
      "source": [
        "print(A*B)"
      ],
      "metadata": {
        "colab": {
          "base_uri": "https://localhost:8080/"
        },
        "id": "paSxY2Md19bA",
        "outputId": "a365e273-ddc7-4d50-d5ea-5e34a5c3ba22"
      },
      "execution_count": null,
      "outputs": [
        {
          "output_type": "stream",
          "name": "stdout",
          "text": [
            "121\n"
          ]
        }
      ]
    },
    {
      "cell_type": "code",
      "source": [
        "print(A/B)"
      ],
      "metadata": {
        "colab": {
          "base_uri": "https://localhost:8080/"
        },
        "id": "jcBpAapt2Azb",
        "outputId": "9c78622b-f0ad-48e4-aa4c-bd1de0ff00aa"
      },
      "execution_count": null,
      "outputs": [
        {
          "output_type": "stream",
          "name": "stdout",
          "text": [
            "1.0\n"
          ]
        }
      ]
    },
    {
      "cell_type": "code",
      "source": [
        "print(A**2)"
      ],
      "metadata": {
        "colab": {
          "base_uri": "https://localhost:8080/"
        },
        "id": "LvcqEoDG27yl",
        "outputId": "a872d793-8273-466e-a72d-4118143b90bd"
      },
      "execution_count": null,
      "outputs": [
        {
          "output_type": "stream",
          "name": "stdout",
          "text": [
            "121\n"
          ]
        }
      ]
    },
    {
      "cell_type": "markdown",
      "source": [
        "# 3. How many reserve keywords are there in python and why we should not use them as a variable name.\n",
        "Ans: Python 3 has 33 reserve keywords. Since all these keywords are already predefined in python and hence they carry a special meaning that is why we can't use them as a variable in python. "
      ],
      "metadata": {
        "id": "253JGbMVmJhd"
      }
    },
    {
      "cell_type": "markdown",
      "source": [
        "# 4. Create email ids with the user inputs. in the following format - lastname.firstname@gmail.com"
      ],
      "metadata": {
        "id": "IznBp5QM3QxS"
      }
    },
    {
      "cell_type": "code",
      "source": [
        "lastname = input(\"Enter your last name: \")\n",
        "firstname = input(\"Enter your first name: \")\n",
        "\n",
        "print(f\"Your email ID is: {lastname}.{firstname}@gmail.com\")"
      ],
      "metadata": {
        "colab": {
          "base_uri": "https://localhost:8080/"
        },
        "id": "lZ0sKy7p388T",
        "outputId": "8f992c15-4403-46ae-97a4-53ee292f76e2"
      },
      "execution_count": null,
      "outputs": [
        {
          "output_type": "stream",
          "name": "stdout",
          "text": [
            "Enter your last name: Jalkote\n",
            "Enter your first name: Pavan\n",
            "Your email ID is: Jalkote.Pavan@gmail.com\n"
          ]
        }
      ]
    },
    {
      "cell_type": "markdown",
      "source": [
        "# 5. Try to print the following lines -\n",
        "  # Hi I'm Sunny\n",
        "  # My address is 22\\3\n",
        "  # I earn 20$ daily."
      ],
      "metadata": {
        "id": "CcB4hS-75C3c"
      }
    },
    {
      "cell_type": "code",
      "source": [
        "print(\"\"\"Hi I'm Sunny\n",
        "My address is 22/\n",
        "I earn 20$ daily\"\"\")\n"
      ],
      "metadata": {
        "colab": {
          "base_uri": "https://localhost:8080/"
        },
        "id": "FJ3EMeXa5WP_",
        "outputId": "1e711037-535e-4bf0-eafa-0934e3df70d2"
      },
      "execution_count": null,
      "outputs": [
        {
          "output_type": "stream",
          "name": "stdout",
          "text": [
            "Hi I'm Sunny\n",
            "My address is 22/\n",
            "I earn 20$ daily\n"
          ]
        }
      ]
    },
    {
      "cell_type": "markdown",
      "source": [
        "# 6. Take user input (name, address, date of birth etc) to fill a form for your college and print their email IDs."
      ],
      "metadata": {
        "id": "EFONF3tg-cG9"
      }
    },
    {
      "cell_type": "code",
      "source": [
        "lastname = input(\"Your last name: \")\n",
        "firstname = input(\"Your first name: \")\n",
        "address = input(\"Address: \")\n",
        "date_of_birth = input(\"your date of birth: \")\n",
        "\n",
        "\n",
        "print(f\"\"\"Your name: {firstname},\n",
        "Your Address: {address},\n",
        "Your date of birth: {date_of_birth}\n",
        "Your email ID will be: {lastname}.{firstname}@gmail.com\"\"\")"
      ],
      "metadata": {
        "id": "Mn50vuVX-kNc",
        "colab": {
          "base_uri": "https://localhost:8080/"
        },
        "outputId": "cffb9d0a-cf21-4270-f0ce-4fd032751525"
      },
      "execution_count": null,
      "outputs": [
        {
          "output_type": "stream",
          "name": "stdout",
          "text": [
            "Your last name: Jalkote\n",
            "Your first name: Pavan\n",
            "Address: Latur\n",
            "your date of birth: 1998\n",
            "Your name: Pavan,\n",
            "Your Address: Latur,\n",
            "Your date of birth: 1998\n",
            "Your email ID will be: Jalkote.Pavan@gmail.com\n"
          ]
        }
      ]
    },
    {
      "cell_type": "markdown",
      "source": [
        "# 7. Convert the following -\n",
        "## \"22.4\" into integer\n",
        "## \"22\" into complex no"
      ],
      "metadata": {
        "id": "8i9kkiRvjMJw"
      }
    },
    {
      "cell_type": "code",
      "source": [
        "A = 22.4 \n",
        "print(f\"Value of A: {A}\")\n",
        "A = int(A)\n",
        "print(f\"Value of A: {A}\")"
      ],
      "metadata": {
        "colab": {
          "base_uri": "https://localhost:8080/"
        },
        "id": "oigH0n9VjUu-",
        "outputId": "2c8a8568-5860-49df-d174-e9aa55db0da4"
      },
      "execution_count": null,
      "outputs": [
        {
          "output_type": "stream",
          "name": "stdout",
          "text": [
            "Value of A: 22.4\n",
            "Value of A: 22\n"
          ]
        }
      ]
    },
    {
      "cell_type": "code",
      "source": [
        "A = 22\n",
        "print(f\"Value of A: {A}\")\n",
        "A = complex(A)\n",
        "print(f\"Value of A: {A}\")"
      ],
      "metadata": {
        "colab": {
          "base_uri": "https://localhost:8080/"
        },
        "id": "RynOZZxPkJSv",
        "outputId": "8aa7daf0-f737-42f8-afad-671a8e972495"
      },
      "execution_count": null,
      "outputs": [
        {
          "output_type": "stream",
          "name": "stdout",
          "text": [
            "Value of A: 22\n",
            "Value of A: (22+0j)\n"
          ]
        }
      ]
    }
  ]
}